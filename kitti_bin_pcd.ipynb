{
 "cells": [
  {
   "cell_type": "markdown",
   "source": [
    "# Transform bin into pcd format"
   ],
   "metadata": {
    "collapsed": false
   }
  },
  {
   "cell_type": "code",
   "execution_count": 2,
   "outputs": [],
   "source": [
    "import open3d as o3d\n",
    "from tqdm import tqdm"
   ],
   "metadata": {
    "collapsed": false
   }
  },
  {
   "cell_type": "code",
   "execution_count": 3,
   "outputs": [],
   "source": [
    "import numpy as np\n",
    "import struct\n",
    "from open3d import *\n",
    "\n",
    "def convert_kitti_bin_to_pcd(binFilePath):\n",
    "    size_float = 4\n",
    "    list_pcd = []\n",
    "    with open(binFilePath, \"rb\") as f:\n",
    "        byte = f.read(size_float * 4)\n",
    "        while byte:\n",
    "            x, y, z, intensity = struct.unpack(\"ffff\", byte)\n",
    "            list_pcd.append([x, y, z])\n",
    "            byte = f.read(size_float * 4)\n",
    "    np_pcd = np.asarray(list_pcd)\n",
    "    pcd = geometry.PointCloud()\n",
    "    pcd.points = utility.Vector3dVector(np_pcd)\n",
    "    return pcd"
   ],
   "metadata": {
    "collapsed": false
   }
  },
  {
   "cell_type": "code",
   "execution_count": 4,
   "outputs": [
    {
     "name": "stderr",
     "output_type": "stream",
     "text": [
      "100%|██████████| 1591/1591 [03:33<00:00,  7.46it/s]\n"
     ]
    }
   ],
   "source": [
    "root_dir = \"/Users/tianyang/DATASET/KITTI/dataset 2/sequences/09/\"\n",
    "bin_paths = os.listdir(root_dir + \"velodyne/\")\n",
    "\n",
    "for bin_path in tqdm(bin_paths):\n",
    "    pcd = convert_kitti_bin_to_pcd(root_dir+\"velodyne/\"+bin_path)\n",
    "    o3d.io.write_point_cloud(root_dir+\"pcd/\"+bin_path.replace(\".bin\",\".pcd\"), pcd)\n"
   ],
   "metadata": {
    "collapsed": false
   }
  },
  {
   "cell_type": "code",
   "execution_count": null,
   "outputs": [],
   "source": [],
   "metadata": {
    "collapsed": false
   }
  }
 ],
 "metadata": {
  "kernelspec": {
   "display_name": "Python 3",
   "language": "python",
   "name": "python3"
  },
  "language_info": {
   "codemirror_mode": {
    "name": "ipython",
    "version": 2
   },
   "file_extension": ".py",
   "mimetype": "text/x-python",
   "name": "python",
   "nbconvert_exporter": "python",
   "pygments_lexer": "ipython2",
   "version": "2.7.6"
  }
 },
 "nbformat": 4,
 "nbformat_minor": 0
}
